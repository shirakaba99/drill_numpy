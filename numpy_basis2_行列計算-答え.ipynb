{
 "cells": [
  {
   "cell_type": "code",
   "execution_count": 1,
   "metadata": {},
   "outputs": [],
   "source": [
    "import numpy as np"
   ]
  },
  {
   "cell_type": "markdown",
   "metadata": {},
   "source": [
    "## 配列同士の演算\n",
    "\n",
    "配列同士の演算も、普通の演算子（+,-,\\*,/,%など)でできます。\n",
    "\n",
    "### 加算"
   ]
  },
  {
   "cell_type": "code",
   "execution_count": 2,
   "metadata": {},
   "outputs": [
    {
     "data": {
      "text/plain": [
       "array([[ 1.,  2.,  3.,  4.,  5.],\n",
       "       [ 6.,  7.,  8.,  9., 10.],\n",
       "       [11., 12., 13., 14., 15.],\n",
       "       [16., 17., 18., 19., 20.],\n",
       "       [21., 22., 23., 24., 25.],\n",
       "       [26., 27., 28., 29., 30.],\n",
       "       [31., 32., 33., 34., 35.],\n",
       "       [36., 37., 38., 39., 40.],\n",
       "       [41., 42., 43., 44., 45.],\n",
       "       [46., 47., 48., 49., 50.]])"
      ]
     },
     "execution_count": 2,
     "metadata": {},
     "output_type": "execute_result"
    }
   ],
   "source": [
    "np.ones((10,5)) + np.arange(50).reshape((10,5))"
   ]
  },
  {
   "cell_type": "markdown",
   "metadata": {},
   "source": [
    "### 減算"
   ]
  },
  {
   "cell_type": "code",
   "execution_count": 3,
   "metadata": {},
   "outputs": [
    {
     "data": {
      "text/plain": [
       "array([9., 8., 7.])"
      ]
     },
     "execution_count": 3,
     "metadata": {},
     "output_type": "execute_result"
    }
   ],
   "source": [
    "np.array([10,9,8]) - np.ones(3)"
   ]
  },
  {
   "cell_type": "markdown",
   "metadata": {},
   "source": [
    "### 乗算"
   ]
  },
  {
   "cell_type": "code",
   "execution_count": 4,
   "metadata": {},
   "outputs": [
    {
     "data": {
      "text/plain": [
       "array([[ 20,  27,  32],\n",
       "       [ 22, 273, 324]])"
      ]
     },
     "execution_count": 4,
     "metadata": {},
     "output_type": "execute_result"
    }
   ],
   "source": [
    "np.array([[10,9,8],[11,91,81]]) * np.array([2,3,4])"
   ]
  },
  {
   "cell_type": "code",
   "execution_count": 5,
   "metadata": {},
   "outputs": [
    {
     "data": {
      "text/plain": [
       "array([[110, 819, 648],\n",
       "       [110, 819, 648]])"
      ]
     },
     "execution_count": 5,
     "metadata": {},
     "output_type": "execute_result"
    }
   ],
   "source": [
    "np.array([[10,9,8],[11,91,81]]) * np.array([[11,91,81],[10,9,8]]) "
   ]
  },
  {
   "cell_type": "markdown",
   "metadata": {},
   "source": [
    "### 除算"
   ]
  },
  {
   "cell_type": "code",
   "execution_count": 6,
   "metadata": {},
   "outputs": [
    {
     "data": {
      "text/plain": [
       "array([5., 3., 2.])"
      ]
     },
     "execution_count": 6,
     "metadata": {},
     "output_type": "execute_result"
    }
   ],
   "source": [
    "np.array([10,9,8]) / np.array([2,3,4])"
   ]
  },
  {
   "cell_type": "markdown",
   "metadata": {},
   "source": [
    "### 剰余"
   ]
  },
  {
   "cell_type": "code",
   "execution_count": 7,
   "metadata": {},
   "outputs": [
    {
     "data": {
      "text/plain": [
       "array([1, 1, 3], dtype=int32)"
      ]
     },
     "execution_count": 7,
     "metadata": {},
     "output_type": "execute_result"
    }
   ],
   "source": [
    "np.array([10,9,8]) % np.array([3,4,5])"
   ]
  },
  {
   "cell_type": "markdown",
   "metadata": {},
   "source": [
    "①\n",
    "以下の流れで演習用データを作成\n",
    "1. 10~19の要素を持つベクトルを用意\n",
    "2. 5x2配列にreshape \n",
    "3. これを変数xに代入\n",
    "4. 15~24の要素を持つベクトルを用意\n",
    "5. 5x2配列にreshape \n",
    "6. これを変数yに代入\n",
    "\n",
    "この２つの配列に対して\n",
    "\n",
    "(1) 加算  \n",
    "(2) 減算  \n",
    "(3) 乗算  \n",
    "(4) 除算  \n",
    "(5) 剰余  \n",
    "\n",
    "を計算"
   ]
  },
  {
   "cell_type": "code",
   "execution_count": 8,
   "metadata": {},
   "outputs": [
    {
     "data": {
      "text/plain": [
       "array([[25, 27],\n",
       "       [29, 31],\n",
       "       [33, 35],\n",
       "       [37, 39],\n",
       "       [41, 43]])"
      ]
     },
     "execution_count": 8,
     "metadata": {},
     "output_type": "execute_result"
    }
   ],
   "source": [
    "# (1)\n",
    "\n",
    "x = np.arange(10,20).reshape((5,2))\n",
    "y = np.arange(15,25).reshape((5,2))\n",
    "\n",
    "x + y"
   ]
  },
  {
   "cell_type": "code",
   "execution_count": 9,
   "metadata": {},
   "outputs": [
    {
     "data": {
      "text/plain": [
       "array([[-5, -5],\n",
       "       [-5, -5],\n",
       "       [-5, -5],\n",
       "       [-5, -5],\n",
       "       [-5, -5]])"
      ]
     },
     "execution_count": 9,
     "metadata": {},
     "output_type": "execute_result"
    }
   ],
   "source": [
    "# (2)\n",
    "\n",
    "x - y"
   ]
  },
  {
   "cell_type": "code",
   "execution_count": 10,
   "metadata": {},
   "outputs": [
    {
     "data": {
      "text/plain": [
       "array([[150, 176],\n",
       "       [204, 234],\n",
       "       [266, 300],\n",
       "       [336, 374],\n",
       "       [414, 456]])"
      ]
     },
     "execution_count": 10,
     "metadata": {},
     "output_type": "execute_result"
    }
   ],
   "source": [
    "# (3)\n",
    "\n",
    "x * y"
   ]
  },
  {
   "cell_type": "code",
   "execution_count": 11,
   "metadata": {},
   "outputs": [
    {
     "data": {
      "text/plain": [
       "array([[0.66666667, 0.6875    ],\n",
       "       [0.70588235, 0.72222222],\n",
       "       [0.73684211, 0.75      ],\n",
       "       [0.76190476, 0.77272727],\n",
       "       [0.7826087 , 0.79166667]])"
      ]
     },
     "execution_count": 11,
     "metadata": {},
     "output_type": "execute_result"
    }
   ],
   "source": [
    "# (4)\n",
    "\n",
    "x / y"
   ]
  },
  {
   "cell_type": "code",
   "execution_count": 12,
   "metadata": {},
   "outputs": [
    {
     "data": {
      "text/plain": [
       "array([[10, 11],\n",
       "       [12, 13],\n",
       "       [14, 15],\n",
       "       [16, 17],\n",
       "       [18, 19]], dtype=int32)"
      ]
     },
     "execution_count": 12,
     "metadata": {},
     "output_type": "execute_result"
    }
   ],
   "source": [
    "# (5)\n",
    "\n",
    "x % y"
   ]
  },
  {
   "cell_type": "markdown",
   "metadata": {},
   "source": [
    "## 等式と不等式\n",
    "\n",
    "返り値はbool値（真偽値）の配列になります。"
   ]
  },
  {
   "cell_type": "markdown",
   "metadata": {},
   "source": [
    "### 等式"
   ]
  },
  {
   "cell_type": "code",
   "execution_count": 13,
   "metadata": {},
   "outputs": [
    {
     "data": {
      "text/plain": [
       "array([False,  True, False])"
      ]
     },
     "execution_count": 13,
     "metadata": {},
     "output_type": "execute_result"
    }
   ],
   "source": [
    "np.array([5,7,9]) == np.array([3,7,11])"
   ]
  },
  {
   "cell_type": "markdown",
   "metadata": {},
   "source": [
    "### 不等式"
   ]
  },
  {
   "cell_type": "code",
   "execution_count": 14,
   "metadata": {},
   "outputs": [
    {
     "data": {
      "text/plain": [
       "array([ True, False,  True])"
      ]
     },
     "execution_count": 14,
     "metadata": {},
     "output_type": "execute_result"
    }
   ],
   "source": [
    "np.array([5,7,9]) != np.array([3,7,11])"
   ]
  },
  {
   "cell_type": "code",
   "execution_count": 15,
   "metadata": {},
   "outputs": [
    {
     "data": {
      "text/plain": [
       "array([ True,  True, False])"
      ]
     },
     "execution_count": 15,
     "metadata": {},
     "output_type": "execute_result"
    }
   ],
   "source": [
    "np.array([5,7,9]) >= np.array([3,7,11])"
   ]
  },
  {
   "cell_type": "code",
   "execution_count": 16,
   "metadata": {},
   "outputs": [
    {
     "data": {
      "text/plain": [
       "array([False, False,  True])"
      ]
     },
     "execution_count": 16,
     "metadata": {},
     "output_type": "execute_result"
    }
   ],
   "source": [
    "np.array([5,7,9]) < np.array([3,7,11])"
   ]
  },
  {
   "cell_type": "markdown",
   "metadata": {},
   "source": [
    "② 下の変数x,yについて\n",
    "\n",
    "(1) 2つの変数で等しい養素をTrue, 等しくない養素をFalseにしたベクトルを出力  \n",
    "(2) x以上のyの養素をTrue, 未満をFalseにしたベクトルを出力"
   ]
  },
  {
   "cell_type": "code",
   "execution_count": 17,
   "metadata": {},
   "outputs": [],
   "source": [
    "x = np.array([1,2,10,20])\n",
    "y = np.array([5,-1,20,10])"
   ]
  },
  {
   "cell_type": "code",
   "execution_count": 18,
   "metadata": {},
   "outputs": [
    {
     "data": {
      "text/plain": [
       "array([False, False, False, False])"
      ]
     },
     "execution_count": 18,
     "metadata": {},
     "output_type": "execute_result"
    }
   ],
   "source": [
    "# (1)\n",
    "\n",
    "x==y"
   ]
  },
  {
   "cell_type": "code",
   "execution_count": 19,
   "metadata": {},
   "outputs": [
    {
     "data": {
      "text/plain": [
       "array([ True, False,  True, False])"
      ]
     },
     "execution_count": 19,
     "metadata": {},
     "output_type": "execute_result"
    }
   ],
   "source": [
    "# (2)\n",
    "\n",
    "x <= y"
   ]
  },
  {
   "cell_type": "markdown",
   "metadata": {},
   "source": [
    "## 内積と外積\n",
    "\n",
    "### 内積 np.dot"
   ]
  },
  {
   "cell_type": "code",
   "execution_count": 20,
   "metadata": {},
   "outputs": [
    {
     "name": "stdout",
     "output_type": "stream",
     "text": [
      "a:\n",
      "[[0 1 2 3 4]\n",
      " [5 6 7 8 9]]\n",
      "b:\n",
      "[[ 0  1  2]\n",
      " [ 3  4  5]\n",
      " [ 6  7  8]\n",
      " [ 9 10 11]\n",
      " [12 13 14]]\n"
     ]
    },
    {
     "data": {
      "text/plain": [
       "array([[ 90, 100, 110],\n",
       "       [240, 275, 310]])"
      ]
     },
     "execution_count": 20,
     "metadata": {},
     "output_type": "execute_result"
    }
   ],
   "source": [
    "a = np.arange(0,10).reshape((2,5))\n",
    "b = np.arange(0,15).reshape((5,3))\n",
    "\n",
    "print(\"a:\")\n",
    "print(a)\n",
    "print(\"b:\")\n",
    "print(b)\n",
    "\n",
    "np.dot(a,b)"
   ]
  },
  {
   "cell_type": "markdown",
   "metadata": {},
   "source": [
    "### 外積 np.outer"
   ]
  },
  {
   "cell_type": "code",
   "execution_count": 21,
   "metadata": {},
   "outputs": [
    {
     "name": "stdout",
     "output_type": "stream",
     "text": [
      "c: [0 1 2 3 4] d: [0 1 2]\n"
     ]
    },
    {
     "data": {
      "text/plain": [
       "array([[0, 0, 0],\n",
       "       [0, 1, 2],\n",
       "       [0, 2, 4],\n",
       "       [0, 3, 6],\n",
       "       [0, 4, 8]])"
      ]
     },
     "execution_count": 21,
     "metadata": {},
     "output_type": "execute_result"
    }
   ],
   "source": [
    "c = a[0]\n",
    "d = b[0]\n",
    "\n",
    "print(\"c:\",c,\"d:\",d)\n",
    "\n",
    "np.outer(c,d)"
   ]
  },
  {
   "cell_type": "markdown",
   "metadata": {},
   "source": [
    "③ ニューラルネットワークの結合重み行列Wがある。  \n",
    "このWと入力行列Xの内積を取り、バイアスベクトルbを足し合わせた値を出力してください。\n",
    "\n",
    "ただし、W,X,bは以下の値を使ってください。"
   ]
  },
  {
   "cell_type": "code",
   "execution_count": 22,
   "metadata": {},
   "outputs": [],
   "source": [
    "np.random.seed(seed=1234)\n",
    "\n",
    "# 入力データ\n",
    "X = np.random.random((32, 20))\n",
    "\n",
    "n_feature = X.shape[1]\n",
    "n_hidden = 5\n",
    "\n",
    "W = np.random.random((n_feature, n_hidden))\n",
    "\n",
    "b = np.random.uniform(n_hidden)"
   ]
  },
  {
   "cell_type": "code",
   "execution_count": 23,
   "metadata": {
    "scrolled": true
   },
   "outputs": [
    {
     "data": {
      "text/plain": [
       "array([[6.57173277, 6.86579716, 6.6547688 , 7.94890682, 6.04791012],\n",
       "       [6.98234285, 6.63150622, 6.90620951, 8.06597785, 5.41409014],\n",
       "       [6.52677389, 5.98422418, 5.91103874, 7.35566815, 5.37108675],\n",
       "       [5.06282289, 4.80936333, 5.24639408, 5.8081751 , 4.31446213],\n",
       "       [6.96118687, 6.80085078, 7.62396987, 8.27412421, 5.88818183],\n",
       "       [6.76736817, 6.89098172, 7.48817187, 7.72202987, 5.65052205],\n",
       "       [6.21044834, 5.40696622, 6.14358175, 6.72985147, 4.15954591],\n",
       "       [7.26179427, 6.01518892, 6.27859336, 8.61307265, 5.23287426],\n",
       "       [7.56995546, 7.61781178, 7.81054183, 9.21894121, 6.72721067],\n",
       "       [5.80116348, 5.92405752, 6.48514957, 7.22066331, 5.30798691],\n",
       "       [6.83873206, 6.85636841, 7.43279248, 8.47339904, 5.53608034],\n",
       "       [6.36748002, 6.35584005, 6.77148818, 7.57996352, 5.44247363],\n",
       "       [4.81652723, 5.12240834, 5.0715845 , 6.04080088, 4.87123549],\n",
       "       [6.75555412, 6.8289164 , 6.6894218 , 8.37950743, 5.3361741 ],\n",
       "       [7.14785979, 6.59489601, 6.85519348, 7.60252533, 5.33093123],\n",
       "       [6.16584983, 5.17341393, 5.68027864, 7.32082142, 4.86364548],\n",
       "       [7.34038153, 6.34748331, 6.6025702 , 7.21079028, 4.79145458],\n",
       "       [7.80086821, 6.60998629, 7.39843821, 7.67071526, 5.26191482],\n",
       "       [6.3033675 , 6.1113716 , 6.68872396, 6.82264235, 4.88693609],\n",
       "       [5.26242754, 6.11774718, 6.82789825, 7.98431618, 5.78461866],\n",
       "       [7.48174445, 6.7423687 , 6.699253  , 8.21904397, 5.68190056],\n",
       "       [7.18167855, 6.76391789, 7.55136299, 8.47698731, 5.46213594],\n",
       "       [6.68383605, 6.14275446, 6.08306541, 7.97800812, 5.06729601],\n",
       "       [4.95458887, 5.65930647, 5.23280262, 6.60649877, 4.824048  ],\n",
       "       [6.57754564, 5.76867885, 5.98651847, 7.11944944, 4.85180098],\n",
       "       [4.4198668 , 4.42816585, 5.33276588, 6.62531242, 4.0619272 ],\n",
       "       [6.55757424, 6.81968479, 6.46749066, 8.19679011, 5.52280815],\n",
       "       [5.68660802, 5.27220163, 5.7948727 , 6.6149593 , 4.83481626],\n",
       "       [5.95769131, 5.58971542, 5.65673078, 6.12220456, 3.65989613],\n",
       "       [6.17778825, 5.52218848, 5.94895233, 6.91786559, 4.4976826 ],\n",
       "       [6.06081624, 5.58369318, 6.46606376, 7.66772664, 4.59442675],\n",
       "       [5.41208362, 5.43287076, 5.53224316, 6.72762504, 4.31042588]])"
      ]
     },
     "execution_count": 23,
     "metadata": {},
     "output_type": "execute_result"
    }
   ],
   "source": [
    "# ③\n",
    "\n",
    "\n",
    "np.dot(X,W) + b"
   ]
  },
  {
   "cell_type": "code",
   "execution_count": null,
   "metadata": {},
   "outputs": [],
   "source": []
  }
 ],
 "metadata": {
  "kernelspec": {
   "display_name": "Python 3",
   "language": "python",
   "name": "python3"
  },
  "language_info": {
   "codemirror_mode": {
    "name": "ipython",
    "version": 3
   },
   "file_extension": ".py",
   "mimetype": "text/x-python",
   "name": "python",
   "nbconvert_exporter": "python",
   "pygments_lexer": "ipython3",
   "version": "3.6.5"
  }
 },
 "nbformat": 4,
 "nbformat_minor": 2
}
